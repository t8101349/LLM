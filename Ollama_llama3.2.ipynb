{
  "cells": [
    {
      "cell_type": "markdown",
      "metadata": {
        "id": "view-in-github",
        "colab_type": "text"
      },
      "source": [
        "<a href=\"https://colab.research.google.com/github/t8101349/LLM/blob/main/Ollama_llama3.2.ipynb\" target=\"_parent\"><img src=\"https://colab.research.google.com/assets/colab-badge.svg\" alt=\"Open In Colab\"/></a>"
      ]
    },
    {
      "cell_type": "markdown",
      "id": "e42dfa42-7d6e-409c-abb2-fda0f90a17d3",
      "metadata": {
        "id": "e42dfa42-7d6e-409c-abb2-fda0f90a17d3"
      },
      "source": [
        "# Ollama\n",
        "* https://ollama.com/"
      ]
    },
    {
      "cell_type": "code",
      "execution_count": null,
      "id": "7547c775-e11e-43bd-8ec7-2bb3b943567a",
      "metadata": {
        "id": "7547c775-e11e-43bd-8ec7-2bb3b943567a"
      },
      "outputs": [],
      "source": [
        "! pip install ollama"
      ]
    },
    {
      "cell_type": "markdown",
      "id": "ec7373dc-593a-4095-8565-bb8e306f3028",
      "metadata": {
        "id": "ec7373dc-593a-4095-8565-bb8e306f3028"
      },
      "source": [
        "# 產生文字"
      ]
    },
    {
      "cell_type": "code",
      "execution_count": null,
      "id": "362c2787-cb76-4ff8-8fde-b41eeba17393",
      "metadata": {
        "id": "362c2787-cb76-4ff8-8fde-b41eeba17393",
        "outputId": "4a59d014-8521-49bb-b48b-dae875642dd6"
      },
      "outputs": [
        {
          "name": "stdout",
          "output_type": "stream",
          "text": [
            "The sky appears blue to our eyes because of a phenomenon called Rayleigh scattering, named after the British physicist Lord Rayleigh, who first described it in the late 19th century.\n",
            "\n",
            "Here's what happens:\n",
            "\n",
            "1. **Sunlight enters Earth's atmosphere**: When sunlight enters our atmosphere, it encounters tiny molecules of gases such as nitrogen (N2) and oxygen (O2).\n",
            "2. **Scattering occurs**: These gas molecules scatter the light in all directions, but they scatter shorter (blue) wavelengths more than longer (red) wavelengths.\n",
            "3. **Blue light is scattered in all directions**: The blue light is scattered in all directions because it has a shorter wavelength, which allows it to be easily deflected by the tiny gas molecules.\n",
            "4. **Our eyes see the scattered blue light**: When we look at the sky, our eyes see the blue light that has been scattered in all directions by the atmosphere.\n",
            "\n",
            "The reason why the sky appears blue during the daytime and not during sunrise or sunset is due to the angle of the sun. During these times, the sunlight has to travel through more of the Earth's atmosphere to reach our eyes, which scatters the shorter wavelengths (like blue) even more, making them invisible to us. That's why we see more orange and red hues during sunrise and sunset.\n",
            "\n",
            "So, in summary, the sky appears blue because of the scattering of sunlight by the tiny molecules in our atmosphere, with blue light being scattered more than other colors.\n"
          ]
        }
      ],
      "source": [
        "from ollama import generate\n",
        "\n",
        "response = generate('llama3.2', 'Why is the sky blue?')\n",
        "print(response['response'])"
      ]
    },
    {
      "cell_type": "markdown",
      "id": "10ba74b9-583a-408b-a175-f7db25a532ef",
      "metadata": {
        "id": "10ba74b9-583a-408b-a175-f7db25a532ef"
      },
      "source": [
        "### 用Stream的方式來產生文字"
      ]
    },
    {
      "cell_type": "code",
      "execution_count": null,
      "id": "12011614-ed27-42f1-a589-07301055ff6c",
      "metadata": {
        "id": "12011614-ed27-42f1-a589-07301055ff6c",
        "outputId": "f0d902e7-d40f-483f-be24-42eb29333585"
      },
      "outputs": [
        {
          "name": "stdout",
          "output_type": "stream",
          "text": [
            "The sky appears blue because of a phenomenon called scattering, which occurs when sunlight interacts with tiny molecules of gases in the Earth's atmosphere, such as nitrogen and oxygen.\n",
            "\n",
            "Here's what happens:\n",
            "\n",
            "1. Sunlight enters the Earth's atmosphere and contains all the colors of the visible spectrum.\n",
            "2. The shorter wavelengths of light (like blue and violet) are scattered more than the longer wavelengths (like red and orange).\n",
            "3. This scattering effect is caused by the tiny molecules in the air, which act like a giant sieve. They scatter the shorter wavelengths of light in all directions, but are less effective at scattering the longer wavelengths.\n",
            "4. As a result, when we look up at the sky, we see mostly the blue light that has been scattered in all directions. This is why the sky appears blue to our eyes.\n",
            "\n",
            "It's worth noting that the color of the sky can change depending on various factors, such as:\n",
            "\n",
            "* Time of day: During sunrise and sunset, the sky can take on hues of red, orange, and pink due to the scattering of longer wavelengths of light.\n",
            "* Atmospheric conditions: Dust, pollution, and water vapor in the air can scatter light in different ways, changing the color of the sky.\n",
            "* Altitude: At higher altitudes, the air is thinner, and there are fewer molecules to scatter light. This means that the sky may appear more blue or clear at high elevations.\n",
            "\n",
            "So, the next time you gaze up at a blue sky, remember the fascinating science behind it!"
          ]
        }
      ],
      "source": [
        "from ollama import generate\n",
        "\n",
        "for part in generate('llama3.2', 'Why is the sky blue?', stream=True):\n",
        "  print(part['response'], end='', flush=True)"
      ]
    },
    {
      "cell_type": "markdown",
      "id": "0db27755-06f0-4082-ae7d-a52848a19e21",
      "metadata": {
        "id": "0db27755-06f0-4082-ae7d-a52848a19e21"
      },
      "source": [
        "# Chat"
      ]
    },
    {
      "cell_type": "code",
      "execution_count": null,
      "id": "77caa617-9801-40ff-b9c6-fc67a2542cd6",
      "metadata": {
        "id": "77caa617-9801-40ff-b9c6-fc67a2542cd6",
        "outputId": "8ee5d5eb-01ef-4641-f463-3f4de9afc248"
      },
      "outputs": [
        {
          "name": "stdout",
          "output_type": "stream",
          "text": [
            "The sky appears blue because of a phenomenon called scattering, which occurs when sunlight interacts with the tiny molecules of gases in the Earth's atmosphere.\n",
            "\n",
            "Here's a simplified explanation:\n",
            "\n",
            "1. Sunlight consists of a spectrum of colors, including all the colors of the visible light (red, orange, yellow, green, blue, indigo, and violet).\n",
            "2. When sunlight enters the Earth's atmosphere, it encounters tiny molecules of gases such as nitrogen (N2) and oxygen (O2).\n",
            "3. These molecules scatter the shorter (blue) wavelengths of light more than the longer (red) wavelengths.\n",
            "4. As a result, the blue light is dispersed in all directions by the atmospheric molecules, creating the phenomenon of Rayleigh scattering.\n",
            "5. Our eyes perceive the scattered blue light as the dominant color of the sky, making it appear blue.\n",
            "\n",
            "It's worth noting that:\n",
            "\n",
            "* The sky can also appear blue during sunrise and sunset due to a different type of scattering called Mie scattering, which occurs when sunlight interacts with atmospheric particles like dust and water vapor.\n",
            "* At high altitudes or in areas with more atmospheric particles, the sky may appear more hazy or gray.\n",
            "* During overcast conditions, the sky can take on various shades of gray due to the absorption of all wavelengths of light by atmospheric particles.\n",
            "\n",
            "In summary, the blue color of the sky is primarily due to Rayleigh scattering, where sunlight interacts with tiny molecules in the atmosphere, dispersing the shorter blue wavelengths and making them visible to our eyes.\n"
          ]
        }
      ],
      "source": [
        "from ollama import chat\n",
        "\n",
        "messages = [\n",
        "  {\n",
        "    'role': 'user',\n",
        "    'content': 'Why is the sky blue?',\n",
        "  },\n",
        "]\n",
        "\n",
        "response = chat('llama3.2', messages=messages)\n",
        "print(response['message']['content'])"
      ]
    },
    {
      "cell_type": "markdown",
      "id": "b24d9bd9-1404-4f16-9ff2-ab0431b61714",
      "metadata": {
        "id": "b24d9bd9-1404-4f16-9ff2-ab0431b61714"
      },
      "source": [
        "### Chat with stream"
      ]
    },
    {
      "cell_type": "code",
      "execution_count": null,
      "id": "8993fd2c-9d34-4e3b-84d6-cde305c3eae5",
      "metadata": {
        "id": "8993fd2c-9d34-4e3b-84d6-cde305c3eae5",
        "outputId": "d9204431-e176-4e33-ed40-cb528ab78b32"
      },
      "outputs": [
        {
          "name": "stdout",
          "output_type": "stream",
          "text": [
            "The sky appears blue because of a phenomenon called Rayleigh scattering, named after the British physicist Lord Rayleigh, who first described it in the late 19th century.\n",
            "\n",
            "Here's what happens:\n",
            "\n",
            "1. **Sunlight enters Earth's atmosphere**: When sunlight enters our atmosphere, it consists of a spectrum of colors, including all the colors of the visible light (red, orange, yellow, green, blue, indigo, and violet).\n",
            "2. **Light interacts with air molecules**: As sunlight travels through the atmosphere, it encounters tiny molecules of gases such as nitrogen (N2) and oxygen (O2). These molecules scatter the light in all directions.\n",
            "3. **Scattering is more efficient for shorter wavelengths**: The smaller the wavelength of light, the more efficiently it is scattered by the air molecules. This means that blue light, with its shorter wavelength, is scattered more than any other color of light.\n",
            "4. **Blue light dominates the sky**: Since blue light is scattered in all directions and reaches our eyes from all parts of the sky, it appears to be the dominant color of the sky. This is why the sky typically appears blue during the daytime, especially when the sun is overhead.\n",
            "\n",
            "Other colors of light are also present in the spectrum, but they are not as strongly scattered by air molecules. For example:\n",
            "\n",
            "* Red and orange light have longer wavelengths, which means they are less affected by scattering.\n",
            "* Violet light has a shorter wavelength than blue light, but it is still scattered to some extent.\n",
            "\n",
            "The combination of these factors is why the sky appears blue, especially during the daytime when the sun is overhead.\n"
          ]
        }
      ],
      "source": [
        "from ollama import chat\n",
        "\n",
        "messages = [\n",
        "  {\n",
        "    'role': 'user',\n",
        "    'content': 'Why is the sky blue?',\n",
        "  },\n",
        "]\n",
        "\n",
        "for part in chat('llama3.2', messages=messages, stream=True):\n",
        "  print(part['message']['content'], end='', flush=True)\n"
      ]
    },
    {
      "cell_type": "markdown",
      "id": "bb273453-f601-4eca-a4e5-b72538721f0e",
      "metadata": {
        "id": "bb273453-f601-4eca-a4e5-b72538721f0e"
      },
      "source": [
        "### 對話範例"
      ]
    },
    {
      "cell_type": "code",
      "execution_count": null,
      "id": "66812e21-6fb9-4594-9c93-bb9b653c9069",
      "metadata": {
        "id": "66812e21-6fb9-4594-9c93-bb9b653c9069"
      },
      "outputs": [],
      "source": [
        "from ollama import chat\n",
        "\n",
        "messages = [\n",
        "  {\n",
        "    'role': 'user',\n",
        "    'content': 'Why is the sky blue?',\n",
        "  },\n",
        "  {\n",
        "    'role': 'assistant',\n",
        "    'content': \"The sky is blue because of the way the Earth's atmosphere scatters sunlight.\",\n",
        "  },\n",
        "  {\n",
        "    'role': 'user',\n",
        "    'content': 'What is the weather in Tokyo?',\n",
        "  },\n",
        "  {\n",
        "    'role': 'assistant',\n",
        "    'content': 'The weather in Tokyo is typically warm and humid during the summer months, with temperatures often exceeding 30°C (86°F). The city experiences a rainy season from June to September, with heavy rainfall and occasional typhoons. Winter is mild, with temperatures rarely dropping below freezing. The city is known for its high-tech and vibrant culture, with many popular tourist attractions such as the Tokyo Tower, Senso-ji Temple, and the bustling Shibuya district.',\n",
        "  },\n",
        "]\n",
        "\n",
        "while True:\n",
        "  user_input = input('Chat with history: ')\n",
        "  response = chat(\n",
        "    'llama3.2',\n",
        "    messages=messages\n",
        "    + [\n",
        "      {'role': 'user', 'content': user_input},\n",
        "    ],\n",
        "  )\n",
        "\n",
        "  # Add the response to the messages to maintain the history\n",
        "  messages += [\n",
        "    {'role': 'user', 'content': user_input},\n",
        "    {'role': 'assistant', 'content': response.message.content},\n",
        "  ]\n",
        "  print(response.message.content + '\\n')"
      ]
    },
    {
      "cell_type": "markdown",
      "id": "2482acdc-b383-44af-95ad-d79abf512c57",
      "metadata": {
        "id": "2482acdc-b383-44af-95ad-d79abf512c57"
      },
      "source": [
        "# 執行遠端的Ollama"
      ]
    },
    {
      "cell_type": "code",
      "execution_count": null,
      "id": "132df8c6-9d9c-450c-8b7d-d5a998f5fa48",
      "metadata": {
        "id": "132df8c6-9d9c-450c-8b7d-d5a998f5fa48",
        "outputId": "369b38d1-f6a4-4d53-8afa-c0cb34f2382f"
      },
      "outputs": [
        {
          "name": "stdout",
          "output_type": "stream",
          "text": [
            "The sky appears blue because of a phenomenon called scattering, which occurs when sunlight interacts with the tiny molecules of gases in the Earth's atmosphere. Here's a simplified explanation:\n",
            "\n",
            "1. **Sunlight**: When the sun rises or sets, its light travels through the atmosphere.\n",
            "2. **Scattering**: The shorter (blue) wavelengths of light are scattered more than the longer (red) wavelengths by the tiny molecules of gases such as nitrogen and oxygen in the atmosphere.\n",
            "3. **Rayleigh scattering**: This type of scattering is named after the British physicist Lord Rayleigh, who first described it in the late 19th century. It's the dominant mechanism responsible for the blue color of the sky.\n",
            "4. **Direction of scattering**: The scattered light is dispersed in all directions, but it's more intense towards the shorter wavelengths (blue and violet). This is why the sky appears blue to our eyes.\n",
            "\n",
            "**Why not red?**\n",
            "\n",
            "The longer wavelengths of light (red, orange, and yellow) are not scattered as much as the shorter wavelengths. As a result, these colors reach our eyes from the direction of the sun, making the sky appear more reddish during sunrise and sunset when the sun's rays have to travel through more of the atmosphere.\n",
            "\n",
            "**Additional factors**\n",
            "\n",
            "Other factors can influence the color of the sky, such as:\n",
            "\n",
            "* **Dust and pollution**: Tiny particles in the air can scatter light in different ways, affecting the apparent color of the sky.\n",
            "* **Water vapor and humidity**: High levels of water vapor in the air can cause the sky to appear more hazy or gray.\n",
            "* **Clouds and atmospheric conditions**: Clouds, fog, and other atmospheric conditions can alter the apparent color of the sky.\n",
            "\n",
            "In summary, the blue color of the sky is due to the scattering of sunlight by tiny molecules in the atmosphere, which favors shorter wavelengths (blue) over longer wavelengths (red)."
          ]
        }
      ],
      "source": [
        "from ollama import Client\n",
        "\n",
        "ollama_client = Client(host='http://127.0.0.1:11434')\n",
        "\n",
        "for part in ollama_client.generate('llama3.2', 'Why is the sky blue?', stream=True):\n",
        "  print(part['response'], end='', flush=True)"
      ]
    }
  ],
  "metadata": {
    "kernelspec": {
      "display_name": "Python 3 (ipykernel)",
      "language": "python",
      "name": "python3"
    },
    "language_info": {
      "codemirror_mode": {
        "name": "ipython",
        "version": 3
      },
      "file_extension": ".py",
      "mimetype": "text/x-python",
      "name": "python",
      "nbconvert_exporter": "python",
      "pygments_lexer": "ipython3",
      "version": "3.12.3"
    },
    "colab": {
      "provenance": [],
      "include_colab_link": true
    }
  },
  "nbformat": 4,
  "nbformat_minor": 5
}