{
  "cells": [
    {
      "cell_type": "code",
      "execution_count": null,
      "id": "1561a48e-d6ea-4ca0-a886-e40d30ec59d2",
      "metadata": {
        "id": "1561a48e-d6ea-4ca0-a886-e40d30ec59d2"
      },
      "outputs": [],
      "source": [
        "! pip install openai"
      ]
    },
    {
      "cell_type": "code",
      "execution_count": null,
      "id": "636e9a60-a740-4b2d-9552-9358e862de36",
      "metadata": {
        "id": "636e9a60-a740-4b2d-9552-9358e862de36",
        "outputId": "84f1bde6-70c3-4444-e7c2-e0a6a3e18757"
      },
      "outputs": [
        {
          "name": "stdout",
          "output_type": "stream",
          "text": [
            "機器學習就是，讓電腦學會，從資料中找出規則。\n",
            "\n",
            "\n",
            "我是一個語言模型，我所知道的資訊，只限於你所給我的輸入。如果你能提供有關機器學習的更多背景與細節，我將很樂意幫助你以韻文的方式解釋。 \n",
            "\n",
            "舉例來說，你可以這麼問:「機器學習是什麼？它怎麼工作的？」我就會這樣回應:\n",
            "機器學習，就是讓電腦聰明，\n",
            "從資料中，找出隱藏的規則。\n",
            "它像一個小偵探，分析又分析，\n",
            "找到模式，做出預測，\n",
            "在科學、醫療，甚至遊戲裡，\n",
            "都是幫助人類很好用的工具。 \n",
            "\n",
            "請你提出問題，我將很樂意以韻文方式回答。\n"
          ]
        }
      ],
      "source": [
        "\n",
        "from openai import OpenAI\n",
        "# Point to the local server\n",
        "client = OpenAI(base_url=\"http://localhost:1234/v1\", api_key=\"lm-studio\")\n",
        "prompt = \"什麼是機器學習？\"\n",
        "completion = client.chat.completions.create(\n",
        "  model=\"llama-3.2-1b-instruct\",\n",
        "  messages=[\n",
        "    {\"role\": \"system\", \"content\": \"Always answer in rhymes.\"},\n",
        "    {\"role\": \"user\", \"content\": prompt}\n",
        "  ],\n",
        "  temperature=0.7,\n",
        ")\n",
        "\n",
        "print(completion.choices[0].message.content)"
      ]
    }
  ],
  "metadata": {
    "kernelspec": {
      "display_name": "Python 3 (ipykernel)",
      "language": "python",
      "name": "python3"
    },
    "language_info": {
      "codemirror_mode": {
        "name": "ipython",
        "version": 3
      },
      "file_extension": ".py",
      "mimetype": "text/x-python",
      "name": "python",
      "nbconvert_exporter": "python",
      "pygments_lexer": "ipython3",
      "version": "3.12.3"
    },
    "colab": {
      "provenance": []
    }
  },
  "nbformat": 4,
  "nbformat_minor": 5
}